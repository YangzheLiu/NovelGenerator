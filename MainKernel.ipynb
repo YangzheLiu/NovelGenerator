{
 "cells": [
  {
   "cell_type": "code",
   "execution_count": 1,
   "metadata": {
    "collapsed": false
   },
   "outputs": [],
   "source": [
    "import numpy as np\n",
    "from scipy.sparse import csc_matrix"
   ]
  },
  {
   "cell_type": "code",
   "execution_count": 2,
   "metadata": {
    "collapsed": true
   },
   "outputs": [],
   "source": [
    "file_object = open('data/qindi.txt')\n",
    "try:\n",
    "     raw_text = file_object.read( )\n",
    "finally:\n",
    "     file_object.close( )"
   ]
  },
  {
   "cell_type": "code",
   "execution_count": 3,
   "metadata": {
    "collapsed": false
   },
   "outputs": [],
   "source": [
    "raw_list = raw_text.decode('utf-8')"
   ]
  },
  {
   "cell_type": "code",
   "execution_count": 4,
   "metadata": {
    "collapsed": false
   },
   "outputs": [],
   "source": [
    "word_dict={}\n",
    "word_list=list(set(raw_list))\n",
    "for index,word in enumerate(word_list):\n",
    "    word_dict[word]=index"
   ]
  },
  {
   "cell_type": "code",
   "execution_count": 5,
   "metadata": {
    "collapsed": true
   },
   "outputs": [],
   "source": [
    "text_dec_list=[]\n",
    "for word in raw_list:\n",
    "    text_dec_list.append(word_dict[word])"
   ]
  },
  {
   "cell_type": "code",
   "execution_count": 6,
   "metadata": {
    "collapsed": false
   },
   "outputs": [],
   "source": [
    "sparse_train = csc_matrix((np.ones(len(text_dec_list)), (range(len(text_dec_list)),text_dec_list)))"
   ]
  },
  {
   "cell_type": "code",
   "execution_count": 7,
   "metadata": {
    "collapsed": false
   },
   "outputs": [
    {
     "name": "stderr",
     "output_type": "stream",
     "text": [
      "Using Theano backend.\n",
      "WARNING (theano.sandbox.cuda): The cuda backend is deprecated and will be removed in the next release (v0.10).  Please switch to the gpuarray backend. You can get more information about how to switch at this URL:\n",
      " https://github.com/Theano/Theano/wiki/Converting-to-the-new-gpu-back-end%28gpuarray%29\n",
      "\n",
      "Using gpu device 0: GeForce GTX 970 (CNMeM is disabled, cuDNN 5105)\n"
     ]
    }
   ],
   "source": [
    "from keras.models import *\n",
    "from keras.layers import *\n",
    "from keras.optimizers import Adadelta, Adam, SGD\n",
    "from keras import regularizers"
   ]
  },
  {
   "cell_type": "code",
   "execution_count": 34,
   "metadata": {
    "collapsed": false
   },
   "outputs": [],
   "source": [
    "model = Sequential([\n",
    "        InputLayer(batch_input_shape=(1,sparse_train.shape[1],)),\n",
    "        Reshape(target_shape=(sparse_train.shape[1], 1)),\n",
    "        LSTM(512, use_bias=False, stateful= True, dropout=0.5),\n",
    "        Dense(sparse_train.shape[1], activation='softmax')\n",
    "    ])"
   ]
  },
  {
   "cell_type": "code",
   "execution_count": 35,
   "metadata": {
    "collapsed": false
   },
   "outputs": [],
   "source": [
    "model.compile(SGD(lr=0.6), loss='categorical_crossentropy', \\\n",
    "              metrics=[\"accuracy\"])\n"
   ]
  },
  {
   "cell_type": "code",
   "execution_count": 36,
   "metadata": {
    "collapsed": true
   },
   "outputs": [],
   "source": [
    "model.load_weights('qindi_weight_1.pkl')"
   ]
  },
  {
   "cell_type": "code",
   "execution_count": 39,
   "metadata": {
    "collapsed": false,
    "scrolled": true
   },
   "outputs": [
    {
     "name": "stdout",
     "output_type": "stream",
     "text": [
      "40100 [array(6.529389381408691, dtype=float32), array(0.0, dtype=float32)]\n",
      "40200 [array(3.985201120376587, dtype=float32), array(0.0, dtype=float32)]\n",
      "40300 [array(5.48284912109375, dtype=float32), array(0.0, dtype=float32)]\n",
      "40400 [array(8.102554321289062, dtype=float32), array(0.0, dtype=float32)]\n",
      "40500 [array(4.0339741706848145, dtype=float32), array(0.0, dtype=float32)]\n",
      "40600 [array(4.734774112701416, dtype=float32), array(0.0, dtype=float32)]\n",
      "40700 [array(8.628226280212402, dtype=float32), array(0.0, dtype=float32)]\n",
      "40800 [array(6.35688591003418, dtype=float32), array(0.0, dtype=float32)]\n",
      "40900 [array(3.870405673980713, dtype=float32), array(0.0, dtype=float32)]\n",
      "41000 [array(9.95207691192627, dtype=float32), array(0.0, dtype=float32)]\n",
      "41100 [array(4.357569694519043, dtype=float32), array(0.0, dtype=float32)]\n",
      "41200 [array(8.062186241149902, dtype=float32), array(0.0, dtype=float32)]\n",
      "41300 [array(3.448143243789673, dtype=float32), array(0.0, dtype=float32)]\n",
      "41400 [array(4.658226013183594, dtype=float32), array(0.0, dtype=float32)]\n",
      "41500 [array(5.723354339599609, dtype=float32), array(0.0, dtype=float32)]\n",
      "41600 [array(3.506638765335083, dtype=float32), array(0.0, dtype=float32)]\n",
      "41700 [array(6.120857238769531, dtype=float32), array(0.0, dtype=float32)]\n",
      "41800 [array(6.538923263549805, dtype=float32), array(0.0, dtype=float32)]\n",
      "41900 [array(5.205652236938477, dtype=float32), array(0.0, dtype=float32)]\n",
      "42000 [array(9.05069637298584, dtype=float32), array(0.0, dtype=float32)]\n",
      "42100 [array(4.927363872528076, dtype=float32), array(0.0, dtype=float32)]\n",
      "42200 [array(4.305301189422607, dtype=float32), array(0.0, dtype=float32)]\n",
      "42300 [array(6.392734527587891, dtype=float32), array(0.0, dtype=float32)]\n",
      "42400 [array(4.667386531829834, dtype=float32), array(0.0, dtype=float32)]\n",
      "42500 [array(5.059915065765381, dtype=float32), array(0.0, dtype=float32)]\n",
      "42600 [array(4.837337493896484, dtype=float32), array(0.0, dtype=float32)]\n",
      "42700 [array(9.016188621520996, dtype=float32), array(0.0, dtype=float32)]\n",
      "42800 [array(2.83339524269104, dtype=float32), array(0.0, dtype=float32)]\n",
      "42900 [array(5.908390045166016, dtype=float32), array(0.0, dtype=float32)]\n",
      "43000 [array(10.48470401763916, dtype=float32), array(0.0, dtype=float32)]\n",
      "43100 [array(5.695094585418701, dtype=float32), array(0.0, dtype=float32)]\n",
      "43200 [array(10.855692863464355, dtype=float32), array(0.0, dtype=float32)]\n",
      "43300 [array(11.109306335449219, dtype=float32), array(0.0, dtype=float32)]\n",
      "43400 [array(3.5818896293640137, dtype=float32), array(0.0, dtype=float32)]\n",
      "43500 [array(7.724936008453369, dtype=float32), array(0.0, dtype=float32)]\n",
      "43600 [array(11.156728744506836, dtype=float32), array(0.0, dtype=float32)]\n",
      "43700 [array(2.6065690517425537, dtype=float32), array(1.0, dtype=float32)]\n",
      "43800 [array(2.7564632892608643, dtype=float32), array(1.0, dtype=float32)]\n",
      "43900 [array(8.135390281677246, dtype=float32), array(0.0, dtype=float32)]\n",
      "44000 [array(4.534529685974121, dtype=float32), array(0.0, dtype=float32)]\n",
      "44100 [array(3.1431069374084473, dtype=float32), array(0.0, dtype=float32)]\n",
      "44200 [array(8.744251251220703, dtype=float32), array(0.0, dtype=float32)]\n",
      "44300 [array(5.877681255340576, dtype=float32), array(0.0, dtype=float32)]\n",
      "44400 [array(3.6101233959198, dtype=float32), array(0.0, dtype=float32)]\n",
      "44500 [array(6.2135796546936035, dtype=float32), array(0.0, dtype=float32)]\n",
      "44600 [array(6.290167808532715, dtype=float32), array(0.0, dtype=float32)]\n",
      "44700 [array(10.075830459594727, dtype=float32), array(0.0, dtype=float32)]\n",
      "44800 [array(3.450479507446289, dtype=float32), array(0.0, dtype=float32)]\n",
      "44900 [array(4.7409563064575195, dtype=float32), array(0.0, dtype=float32)]\n",
      "45000 [array(7.422204494476318, dtype=float32), array(0.0, dtype=float32)]\n",
      "45100 [array(7.90659236907959, dtype=float32), array(0.0, dtype=float32)]\n",
      "45200 [array(3.8958899974823, dtype=float32), array(0.0, dtype=float32)]\n",
      "45300 [array(4.134175777435303, dtype=float32), array(0.0, dtype=float32)]\n",
      "45400 [array(6.120553970336914, dtype=float32), array(0.0, dtype=float32)]\n",
      "45500 [array(5.8994364738464355, dtype=float32), array(0.0, dtype=float32)]\n",
      "45600 [array(7.487667560577393, dtype=float32), array(0.0, dtype=float32)]\n",
      "45700 [array(6.953004360198975, dtype=float32), array(0.0, dtype=float32)]\n",
      "45800 [array(8.474478721618652, dtype=float32), array(0.0, dtype=float32)]\n",
      "45900 [array(7.452179431915283, dtype=float32), array(0.0, dtype=float32)]\n",
      "46000 [array(5.778242111206055, dtype=float32), array(0.0, dtype=float32)]\n",
      "46100 [array(1.6497374773025513, dtype=float32), array(1.0, dtype=float32)]\n",
      "46200 [array(5.636193752288818, dtype=float32), array(0.0, dtype=float32)]\n",
      "46300 [array(4.198485374450684, dtype=float32), array(0.0, dtype=float32)]\n",
      "46400 [array(6.504643440246582, dtype=float32), array(0.0, dtype=float32)]\n",
      "46500 [array(3.8146841526031494, dtype=float32), array(0.0, dtype=float32)]\n",
      "46600 [array(5.473300457000732, dtype=float32), array(0.0, dtype=float32)]\n",
      "46700 [array(5.835771560668945, dtype=float32), array(0.0, dtype=float32)]\n",
      "46800 [array(5.849525451660156, dtype=float32), array(0.0, dtype=float32)]\n",
      "46900 [array(5.652647018432617, dtype=float32), array(0.0, dtype=float32)]\n",
      "47000 [array(7.999134540557861, dtype=float32), array(0.0, dtype=float32)]\n",
      "47100 [array(6.623749732971191, dtype=float32), array(0.0, dtype=float32)]\n",
      "47200 [array(7.707149028778076, dtype=float32), array(0.0, dtype=float32)]\n",
      "47300 [array(7.956782341003418, dtype=float32), array(0.0, dtype=float32)]\n",
      "47400 [array(7.1752142906188965, dtype=float32), array(0.0, dtype=float32)]\n",
      "47500 [array(8.722829818725586, dtype=float32), array(0.0, dtype=float32)]\n",
      "47600 [array(8.028575897216797, dtype=float32), array(0.0, dtype=float32)]\n",
      "47700 [array(3.0152745246887207, dtype=float32), array(1.0, dtype=float32)]\n",
      "47800 [array(3.5013742446899414, dtype=float32), array(0.0, dtype=float32)]\n",
      "47900 [array(7.660918712615967, dtype=float32), array(0.0, dtype=float32)]\n",
      "48000 [array(8.747278213500977, dtype=float32), array(0.0, dtype=float32)]\n",
      "48100 [array(4.387655258178711, dtype=float32), array(0.0, dtype=float32)]\n",
      "48200 [array(5.082361698150635, dtype=float32), array(0.0, dtype=float32)]\n",
      "48300 [array(5.813905239105225, dtype=float32), array(0.0, dtype=float32)]\n",
      "48400 [array(8.510331153869629, dtype=float32), array(0.0, dtype=float32)]\n",
      "48500 [array(6.539069175720215, dtype=float32), array(0.0, dtype=float32)]\n",
      "48600 [array(2.0498833656311035, dtype=float32), array(1.0, dtype=float32)]\n",
      "48700 [array(5.570655822753906, dtype=float32), array(0.0, dtype=float32)]\n",
      "48800 [array(4.450569152832031, dtype=float32), array(0.0, dtype=float32)]\n",
      "48900 [array(2.452570915222168, dtype=float32), array(0.0, dtype=float32)]\n",
      "49000 [array(6.077737331390381, dtype=float32), array(0.0, dtype=float32)]\n",
      "49100 [array(7.793896198272705, dtype=float32), array(0.0, dtype=float32)]\n",
      "49200 [array(4.062843322753906, dtype=float32), array(0.0, dtype=float32)]\n",
      "49300 [array(3.355482816696167, dtype=float32), array(0.0, dtype=float32)]\n",
      "49400 [array(5.944401741027832, dtype=float32), array(0.0, dtype=float32)]\n",
      "49500 [array(6.282487869262695, dtype=float32), array(0.0, dtype=float32)]\n",
      "49600 [array(6.319081783294678, dtype=float32), array(0.0, dtype=float32)]\n",
      "49700 [array(7.503350257873535, dtype=float32), array(0.0, dtype=float32)]\n",
      "49800 [array(5.585634708404541, dtype=float32), array(0.0, dtype=float32)]\n",
      "49900 [array(6.479548931121826, dtype=float32), array(0.0, dtype=float32)]\n",
      "50000 [array(3.427366256713867, dtype=float32), array(0.0, dtype=float32)]\n",
      "50100 [array(6.409539699554443, dtype=float32), array(0.0, dtype=float32)]\n",
      "50200 [array(8.482503890991211, dtype=float32), array(0.0, dtype=float32)]\n",
      "50300 [array(7.4206953048706055, dtype=float32), array(0.0, dtype=float32)]\n",
      "50400 [array(4.799349784851074, dtype=float32), array(0.0, dtype=float32)]\n",
      "50500 [array(9.088632583618164, dtype=float32), array(0.0, dtype=float32)]\n",
      "50600 [array(10.197172164916992, dtype=float32), array(0.0, dtype=float32)]\n",
      "50700 [array(3.705113649368286, dtype=float32), array(0.0, dtype=float32)]\n",
      "50800 [array(2.3788700103759766, dtype=float32), array(1.0, dtype=float32)]\n",
      "50900 [array(7.025624752044678, dtype=float32), array(0.0, dtype=float32)]\n",
      "51000 [array(5.968623161315918, dtype=float32), array(0.0, dtype=float32)]\n",
      "51100 [array(4.008097171783447, dtype=float32), array(0.0, dtype=float32)]\n",
      "51200 [array(7.025413990020752, dtype=float32), array(0.0, dtype=float32)]\n",
      "51300 [array(5.296333312988281, dtype=float32), array(0.0, dtype=float32)]\n",
      "51400 [array(4.85472297668457, dtype=float32), array(0.0, dtype=float32)]\n",
      "51500 [array(6.965852737426758, dtype=float32), array(0.0, dtype=float32)]\n",
      "51600 [array(4.03914213180542, dtype=float32), array(0.0, dtype=float32)]\n",
      "51700 [array(7.551271438598633, dtype=float32), array(0.0, dtype=float32)]\n",
      "51800 [array(6.062539100646973, dtype=float32), array(0.0, dtype=float32)]\n",
      "51900 [array(9.529852867126465, dtype=float32), array(0.0, dtype=float32)]\n",
      "52000 [array(7.449317932128906, dtype=float32), array(0.0, dtype=float32)]\n",
      "52100 [array(5.096917629241943, dtype=float32), array(0.0, dtype=float32)]\n",
      "52200 [array(3.8253135681152344, dtype=float32), array(0.0, dtype=float32)]\n",
      "52300 [array(5.382718086242676, dtype=float32), array(0.0, dtype=float32)]\n",
      "52400 [array(3.4465503692626953, dtype=float32), array(0.0, dtype=float32)]\n",
      "52500 [array(5.505749225616455, dtype=float32), array(0.0, dtype=float32)]\n",
      "52600 [array(7.7360968589782715, dtype=float32), array(0.0, dtype=float32)]\n",
      "52700 [array(5.639942169189453, dtype=float32), array(0.0, dtype=float32)]\n",
      "52800 [array(4.474193096160889, dtype=float32), array(0.0, dtype=float32)]\n",
      "52900 [array(4.814160346984863, dtype=float32), array(0.0, dtype=float32)]\n",
      "53000 [array(8.148192405700684, dtype=float32), array(0.0, dtype=float32)]\n",
      "53100 [array(4.474076271057129, dtype=float32), array(0.0, dtype=float32)]\n",
      "53200 [array(3.6937687397003174, dtype=float32), array(0.0, dtype=float32)]\n",
      "53300 [array(2.2183868885040283, dtype=float32), array(1.0, dtype=float32)]\n",
      "53400 [array(3.147496223449707, dtype=float32), array(0.0, dtype=float32)]\n",
      "53500 [array(7.5442214012146, dtype=float32), array(0.0, dtype=float32)]\n",
      "53600 [array(2.85782790184021, dtype=float32), array(1.0, dtype=float32)]\n",
      "53700 [array(8.305142402648926, dtype=float32), array(0.0, dtype=float32)]\n",
      "53800 [array(4.035713195800781, dtype=float32), array(0.0, dtype=float32)]\n",
      "53900 [array(2.116382360458374, dtype=float32), array(1.0, dtype=float32)]\n",
      "54000 [array(4.42267370223999, dtype=float32), array(0.0, dtype=float32)]\n",
      "54100 [array(4.133022785186768, dtype=float32), array(0.0, dtype=float32)]\n",
      "54200 [array(7.902379035949707, dtype=float32), array(0.0, dtype=float32)]\n",
      "54300 [array(10.192390441894531, dtype=float32), array(0.0, dtype=float32)]\n",
      "54400 [array(8.066019058227539, dtype=float32), array(0.0, dtype=float32)]\n",
      "54500 [array(8.175312042236328, dtype=float32), array(0.0, dtype=float32)]\n",
      "54600 [array(4.851439476013184, dtype=float32), array(0.0, dtype=float32)]\n",
      "54700 [array(10.494112014770508, dtype=float32), array(0.0, dtype=float32)]\n",
      "54800 [array(7.145680904388428, dtype=float32), array(0.0, dtype=float32)]\n",
      "54900 [array(5.029606819152832, dtype=float32), array(0.0, dtype=float32)]\n"
     ]
    }
   ],
   "source": [
    "for i in range(40100,55000):\n",
    "    if i%100==0:\n",
    "        print i, model.train_on_batch(\n",
    "        sparse_train[(i*1)+0:(i*1)+1].todense(), sparse_train[(i*1)+1:(i*1)+2].todense())\n",
    "    else:\n",
    "        model.train_on_batch(\n",
    "        sparse_train[(i*1)+0:(i*1)+1].todense(), sparse_train[(i*1)+1:(i*1)+2].todense())"
   ]
  },
  {
   "cell_type": "code",
   "execution_count": 41,
   "metadata": {
    "collapsed": true
   },
   "outputs": [],
   "source": [
    "model.save_weights('qindi_weight_1.pkl')"
   ]
  },
  {
   "cell_type": "code",
   "execution_count": 40,
   "metadata": {
    "collapsed": false,
    "scrolled": true
   },
   "outputs": [
    {
     "name": "stdout",
     "output_type": "stream",
     "text": [
      "，，，，，，，，，，，，，，，，，，，，，，，，，，，，，，，，，，，，，，，，，，，，，，，，，，，，，，，，，，，，，，，，，，，，，，，，，，，，，，，，，，，，，，，，，，，，，，，，，，，，，，，，，，，，，，，，，，，，，，，，，，，，，，，，，，，，，，，，，，，，，，，，，，，，，，，，，，，，，，，，，，，，，，，，，，，，，，，，，，，，，，，，，，，，，，，，，，，，，，，，\n"
     ]
    }
   ],
   "source": [
    "predict_list=''\n",
    "reverse_dict=dict((value,key) for key,value in word_dict.iteritems())\n",
    "temp_x=np.zeros(len(word_list)).reshape((1,len(word_list)))\n",
    "\n",
    "\n",
    "for i in range(0,200):\n",
    "    temp_x=model.predict(temp_x) \n",
    "    predict_list=predict_list+reverse_dict[np.where(temp_x==np.max(temp_x))[1][0]]\n",
    "\n",
    "print predict_list"
   ]
  },
  {
   "cell_type": "code",
   "execution_count": null,
   "metadata": {
    "collapsed": true
   },
   "outputs": [],
   "source": []
  },
  {
   "cell_type": "code",
   "execution_count": null,
   "metadata": {
    "collapsed": true
   },
   "outputs": [],
   "source": []
  },
  {
   "cell_type": "code",
   "execution_count": null,
   "metadata": {
    "collapsed": true
   },
   "outputs": [],
   "source": []
  },
  {
   "cell_type": "code",
   "execution_count": 32,
   "metadata": {
    "collapsed": false
   },
   "outputs": [
    {
     "data": {
      "text/plain": [
       "[array([[-0.00847666,  0.07868012, -0.09560304, -0.06185699, -0.00159777,\n",
       "          0.01132849, -0.06171371, -0.10387016, -0.06873494, -0.07498007,\n",
       "         -0.09948733,  0.07549474,  0.02297341, -0.09054404,  0.00753451,\n",
       "         -0.0682692 ,  0.09533814, -0.05952879, -0.04460173,  0.00322794,\n",
       "         -0.01269054,  0.01206095, -0.09104586, -0.03480369,  0.08510616,\n",
       "         -0.01345712,  0.01793887, -0.08830015,  0.00968566, -0.06008423,\n",
       "         -0.0603939 ,  0.05101772, -0.02023266,  0.02476474, -0.08243666,\n",
       "         -0.0571215 , -0.0938924 ,  0.02688616, -0.06887405, -0.03843978,\n",
       "          0.06416255,  0.00848885, -0.03223276, -0.00188623, -0.02700392,\n",
       "          0.04080183, -0.0483497 , -0.0323631 , -0.03144606, -0.10597697,\n",
       "         -0.09954681, -0.04100198,  0.04301211,  0.10296623,  0.08041774,\n",
       "         -0.08035944, -0.01280256, -0.07618067, -0.04930422, -0.09838294,\n",
       "         -0.02539708,  0.06243981,  0.07394915,  0.02905108,  0.04951395,\n",
       "         -0.05343322,  0.08787543,  0.08258805,  0.02981523, -0.08513963,\n",
       "         -0.08891593,  0.04388883,  0.09827904,  0.08141799, -0.05678526,\n",
       "          0.08704416,  0.00781125,  0.03435531,  0.00507247,  0.06234081,\n",
       "         -0.08619812, -0.10218935, -0.00152707, -0.06825787, -0.03636547,\n",
       "         -0.1069589 ,  0.07206751, -0.00123287, -0.07459074,  0.08447399,\n",
       "         -0.03524598,  0.09183718,  0.01680019, -0.04463754, -0.08250804,\n",
       "          0.0213713 , -0.09588621, -0.09001885,  0.01161727,  0.05600239,\n",
       "         -0.05141352, -0.01684577, -0.06093166,  0.07343185,  0.10381158,\n",
       "          0.05496715,  0.0685205 , -0.0854361 ,  0.07566759,  0.04272897,\n",
       "          0.05234139,  0.01422803, -0.01390427, -0.08788702,  0.04373086,\n",
       "          0.04531544, -0.03326752,  0.10474017, -0.10167219, -0.07695927,\n",
       "          0.01991127, -0.05185423,  0.06653612, -0.00099943,  0.0356744 ,\n",
       "          0.0893433 , -0.09590983,  0.07343557,  0.10602885,  0.01932675,\n",
       "          0.02060819,  0.10120594, -0.01357413, -0.08742511, -0.04439535,\n",
       "          0.05248094,  0.08249055, -0.04978342,  0.00169503,  0.05687267,\n",
       "          0.02419477,  0.00869694,  0.06469402,  0.10750046,  0.03371895,\n",
       "          0.06920956, -0.08634192, -0.01322689,  0.02657135, -0.06466397,\n",
       "          0.06084765,  0.02818653, -0.09231125, -0.02162283,  0.05820592,\n",
       "         -0.07513613,  0.09039727, -0.0827066 , -0.06394774, -0.08016273,\n",
       "         -0.01716937, -0.04951802,  0.00763118, -0.03772736, -0.04259769,\n",
       "         -0.00559585,  0.10185377, -0.09012986,  0.00606043,  0.03211027,\n",
       "         -0.09737458,  0.02882379, -0.03864043, -0.03381952,  0.10142673,\n",
       "         -0.10428503, -0.06104901,  0.10547693, -0.06193505, -0.10507462,\n",
       "         -0.02613383,  0.02548898,  0.05589305,  0.01909433, -0.00753269,\n",
       "          0.04422424,  0.03032231, -0.10387229, -0.08341055, -0.09979602,\n",
       "          0.03841116, -0.04942296,  0.05485189, -0.0973202 , -0.07477184,\n",
       "          0.04359162,  0.08437528,  0.08789971,  0.09633516,  0.05768422,\n",
       "          0.09741592,  0.04934622, -0.09122301,  0.00596538, -0.02301792,\n",
       "          0.06466182, -0.02948098, -0.04850828, -0.0688164 ,  0.01622085,\n",
       "          0.06640098,  0.04117773,  0.02596748,  0.05870219, -0.00719043,\n",
       "          0.01625928,  0.05840173, -0.08817978,  0.00521558, -0.02554036,\n",
       "         -0.00386448,  0.07578466,  0.01411396, -0.05396965, -0.06123887,\n",
       "         -0.03107526,  0.0563986 , -0.05943574, -0.021038  ,  0.03442577,\n",
       "          0.01001162,  0.04046645, -0.00396809, -0.00910579, -0.00066288,\n",
       "         -0.06733574, -0.00932056,  0.10168418,  0.05942371, -0.02176431,\n",
       "         -0.00715477, -0.08001265,  0.03999097,  0.10489776,  0.02071349,\n",
       "         -0.07321334, -0.00637397,  0.09539922,  0.06324528,  0.04436271,\n",
       "          0.01695872,  0.10181104,  0.09768453, -0.02543462, -0.08565226,\n",
       "          0.10283609, -0.05698646, -0.08000474,  0.00637775,  0.0729226 ,\n",
       "         -0.03933036,  0.00318192, -0.07266601, -0.06097956, -0.01666396,\n",
       "         -0.09878825,  0.0765723 , -0.0387358 ,  0.05485807, -0.01843882,\n",
       "          0.0142963 , -0.05483835,  0.05832762,  0.09135445,  0.0802758 ,\n",
       "         -0.0312455 ,  0.09486746,  0.06633645, -0.08421487, -0.03571986,\n",
       "         -0.05899278,  0.08946893,  0.09488305,  0.05830303,  0.06851708,\n",
       "          0.02018224, -0.07476446,  0.03901877, -0.01899186, -0.02854668,\n",
       "          0.00905111,  0.04132915, -0.04697106,  0.08535913,  0.09729166,\n",
       "         -0.10169238, -0.07953303, -0.02605422,  0.0360049 , -0.0416312 ,\n",
       "          0.02813139, -0.06096241,  0.03202511,  0.02694952, -0.03333592,\n",
       "          0.03881072, -0.06146125, -0.03809564, -0.10645515,  0.06628399,\n",
       "          0.09717184,  0.02626166,  0.09579509,  0.00413495, -0.02558732,\n",
       "          0.05151118, -0.06211819, -0.0132302 ,  0.06392729,  0.01629515,\n",
       "          0.06409967, -0.02479764,  0.10599102, -0.07140813, -0.06901716,\n",
       "          0.09424213,  0.00145428, -0.002685  ,  0.02857379, -0.01365904,\n",
       "         -0.01358246,  0.10724711, -0.04445323, -0.0376032 , -0.06422574,\n",
       "          0.02388831,  0.01696711,  0.05794274, -0.06756321, -0.05586435,\n",
       "          0.04089937,  0.02113231,  0.0192356 ,  0.01495392, -0.0490513 ,\n",
       "          0.00515536, -0.06896065, -0.08182273,  0.02622105, -0.01202081,\n",
       "          0.02164877, -0.09117749,  0.0318087 ,  0.00879457,  0.10388716,\n",
       "         -0.0894543 ,  0.03395247, -0.06051099,  0.01446908,  0.02316681,\n",
       "         -0.05546652,  0.07227238,  0.10534763, -0.09656913, -0.00450941,\n",
       "         -0.09565633,  0.0259259 ,  0.0823645 ,  0.08379186,  0.0973085 ,\n",
       "          0.06237065, -0.03326492, -0.01206884, -0.00556364,  0.01996524,\n",
       "          0.04305838, -0.05265986,  0.0731212 ,  0.01794127,  0.03213032,\n",
       "          0.01136249, -0.04929304, -0.08779905, -0.05598964,  0.0396453 ,\n",
       "          0.10496356, -0.03772575,  0.08241642,  0.01388939,  0.10364751,\n",
       "         -0.01620317,  0.0190944 ,  0.02607028,  0.02760234,  0.10632773,\n",
       "         -0.01896184, -0.02810274, -0.03937019,  0.02723863,  0.08840677,\n",
       "          0.09556303, -0.00179138,  0.04278285, -0.01424632, -0.03472087,\n",
       "         -0.10147008, -0.10227786,  0.02249046, -0.03862458,  0.0988538 ,\n",
       "         -0.0224398 ,  0.08496386,  0.0336336 , -0.00871858, -0.00246688,\n",
       "         -0.0316074 ,  0.09669567, -0.00046766, -0.01034796,  0.00888232,\n",
       "         -0.02322283, -0.1038329 ,  0.06734307,  0.01064155, -0.08021472,\n",
       "         -0.02067279, -0.03502639,  0.0700328 , -0.0494443 , -0.01142018,\n",
       "          0.05456234,  0.08389829,  0.04040804,  0.09143602, -0.09426782,\n",
       "         -0.02773661, -0.01250121,  0.09279732,  0.09021036,  0.07847185,\n",
       "         -0.0398696 ,  0.06500924, -0.03164001,  0.09543384,  0.10459138,\n",
       "          0.0580759 , -0.0394481 ,  0.07263692, -0.08126406,  0.10076895,\n",
       "         -0.00121565, -0.10415662, -0.10667238,  0.04081494, -0.07063454,\n",
       "          0.00118266, -0.01758835,  0.09399329, -0.03755345, -0.07404187,\n",
       "          0.06032164, -0.08891171, -0.09991669, -0.03539607,  0.04768169,\n",
       "         -0.07785043,  0.09892915, -0.02032534,  0.07725569, -0.08170536,\n",
       "         -0.04897364,  0.04623582,  0.10225153,  0.09679924,  0.07939034,\n",
       "          0.06043108, -0.0820459 ,  0.09290425,  0.07178932,  0.03973422,\n",
       "         -0.00343431,  0.03328009,  0.06340206, -0.01001913, -0.0774001 ,\n",
       "         -0.00718279, -0.05418828, -0.05013024,  0.02529878,  0.05742342,\n",
       "         -0.04250281,  0.07032186, -0.00687037, -0.04833549,  0.0560775 ,\n",
       "         -0.0547817 , -0.05671749, -0.09950316, -0.06033251,  0.08249596,\n",
       "          0.10806543, -0.00356456,  0.0009297 , -0.05375522,  0.00062643,\n",
       "         -0.1005694 ,  0.01647795, -0.10761501, -0.0484923 , -0.05127362,\n",
       "          0.03872593, -0.00964328]], dtype=float32),\n",
       " array([[ 0.02369238,  0.02252687, -0.06039285, ...,  0.02630431,\n",
       "          0.0574283 , -0.0423622 ],\n",
       "        [ 0.0181425 , -0.02088321, -0.01251156, ..., -0.05467215,\n",
       "          0.00797411, -0.05306433],\n",
       "        [ 0.02402208, -0.03367821, -0.01934141, ...,  0.01166967,\n",
       "         -0.00173018, -0.04710542],\n",
       "        ..., \n",
       "        [-0.01670477, -0.01289302, -0.01101499, ...,  0.10102868,\n",
       "         -0.01167116, -0.05799907],\n",
       "        [ 0.04294273, -0.07029302, -0.02122697, ..., -0.00810568,\n",
       "          0.00525874, -0.03688173],\n",
       "        [ 0.00471454, -0.02173191,  0.04291284, ...,  0.03448791,\n",
       "          0.05731335, -0.03155983]], dtype=float32),\n",
       " array([[ -2.40082527e-03,   3.20200771e-02,   9.01222136e-03, ...,\n",
       "           2.10871734e-02,  -2.28730962e-03,   2.81572491e-02],\n",
       "        [  2.36579590e-02,  -2.24310346e-02,  -2.16295533e-02, ...,\n",
       "           2.66201887e-02,   2.64673140e-02,  -3.35779861e-02],\n",
       "        [ -3.47262733e-02,  -2.38822140e-02,   2.96381414e-02, ...,\n",
       "           1.51863014e-02,   2.13422291e-02,  -2.05554124e-02],\n",
       "        ..., \n",
       "        [  3.65386158e-02,   1.56594720e-02,   2.97257230e-02, ...,\n",
       "          -2.66992208e-02,   1.43578909e-02,  -3.61061543e-02],\n",
       "        [ -1.53649682e-02,   2.41133738e-02,   2.31213383e-02, ...,\n",
       "          -2.95288377e-02,  -2.37312950e-02,   5.51099982e-03],\n",
       "        [  3.48715633e-02,  -3.75303514e-02,   8.92685913e-03, ...,\n",
       "           2.63071842e-02,  -1.35810507e-04,   4.53650246e-05]], dtype=float32),\n",
       " array([-0.18270759, -0.26556548,  0.08538581, ..., -0.2724244 ,\n",
       "        -0.11251839,  0.19149424], dtype=float32)]"
      ]
     },
     "execution_count": 32,
     "metadata": {},
     "output_type": "execute_result"
    }
   ],
   "source": [
    "model.get_weights()"
   ]
  },
  {
   "cell_type": "code",
   "execution_count": null,
   "metadata": {
    "collapsed": true
   },
   "outputs": [],
   "source": []
  },
  {
   "cell_type": "code",
   "execution_count": null,
   "metadata": {
    "collapsed": true
   },
   "outputs": [],
   "source": []
  },
  {
   "cell_type": "code",
   "execution_count": null,
   "metadata": {
    "collapsed": true
   },
   "outputs": [],
   "source": []
  },
  {
   "cell_type": "code",
   "execution_count": null,
   "metadata": {
    "collapsed": true
   },
   "outputs": [],
   "source": []
  }
 ],
 "metadata": {
  "kernelspec": {
   "display_name": "Python 2",
   "language": "python",
   "name": "python2"
  },
  "language_info": {
   "codemirror_mode": {
    "name": "ipython",
    "version": 2
   },
   "file_extension": ".py",
   "mimetype": "text/x-python",
   "name": "python",
   "nbconvert_exporter": "python",
   "pygments_lexer": "ipython2",
   "version": "2.7.12"
  }
 },
 "nbformat": 4,
 "nbformat_minor": 2
}
